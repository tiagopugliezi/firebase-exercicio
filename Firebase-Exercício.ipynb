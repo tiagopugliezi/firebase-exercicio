{
 "cells": [
  {
   "cell_type": "markdown",
   "metadata": {},
   "source": [
    "# Exercício:\n",
    "\n",
    "## 1. Realizar download do dataset Wine Reviews;\n",
    "https://www.kaggle.com/zynicide/wine-reviews\n",
    "\n",
    "## 2. Criar novo projeto no Firebase chamado Wine Reviews;\n",
    "\n",
    "## 3. Dar permissão no database e storage;"
   ]
  },
  {
   "cell_type": "code",
   "execution_count": 40,
   "metadata": {},
   "outputs": [],
   "source": [
    "import pyrebase\n",
    "import pandas as pd\n",
    "\n",
    "config = {\n",
    "  };\n",
    "firebase = pyrebase.initialize_app(config)\n",
    "db = firebase.database()\n",
    "storage = firebase.storage()"
   ]
  },
  {
   "cell_type": "code",
   "execution_count": 36,
   "metadata": {},
   "outputs": [],
   "source": [
    "from time import time\n",
    "id = int(time())\n",
    "df = pd.read_csv('c:/winemag-data-130k-v2.csv', index_col=0)\n",
    "\n",
    "df.dropna(inplace = True)\n",
    "df.isnull().sum()\n"
   ]
  },
  {
   "cell_type": "markdown",
   "metadata": {},
   "source": [
    "## 4. Criar função para adicionar linhas (apenas as primeiras 1000 linhas) do dataset como dados em um nó que será o (timestamp + i);\n",
    "## 5. Indexar coluna id, points e province;"
   ]
  },
  {
   "cell_type": "code",
   "execution_count": 35,
   "metadata": {},
   "outputs": [],
   "source": [
    "def insere1000(df):\n",
    "    df = df[:1000]\n",
    "    id = int(time())\n",
    "    for x in df.values:\n",
    "        data = {\"country\": x[0],\n",
    "                \"description\": x[1],\n",
    "                \"designation\": x[2],\n",
    "                \"points\": x[3],\n",
    "                \"price\": x[4],\n",
    "                \"province\": x[5],\n",
    "                \"region_1\": x[6],\n",
    "                \"region_2\": x[7],\n",
    "                \"taster_name\": x[8],\n",
    "                \"taster_twitter_handle\": x[9],\n",
    "                \"title\": x[10],\n",
    "                \"variety\": x[11],\n",
    "                \"winery\": x[12]\n",
    "               }\n",
    "        db.child(\"winereview\").child(id).set(data)\n",
    "        id = id+1\n",
    "        \n",
    "insere1000(df, 'pikachu.gif')"
   ]
  },
  {
   "cell_type": "markdown",
   "metadata": {},
   "source": [
    "## 6. Criar função que adicione um novo dado com a chave sendo o timestamp e salve uma imagem no storage em que o nome da imagem seja o timestamp numa pasta imagens;"
   ]
  },
  {
   "cell_type": "code",
   "execution_count": 42,
   "metadata": {},
   "outputs": [
    {
     "name": "stdout",
     "output_type": "stream",
     "text": [
      "1583091263\n"
     ]
    }
   ],
   "source": [
    "def inserir(data, img):\n",
    "    id = int(time())\n",
    "    print(id)\n",
    "    db.child(\"winereview\").child(id).set(data)\n",
    "    storage.child(\"images/{}.gif\".format(id)).put(img)\n",
    "    \n",
    "dados = {'country': 'US', 'description': \"Much like the regular bottling from 2012, this comes across as rather rough and tannic, with rustic, earthy, herbal characteristics. Nonetheless, if you think of it as a pleasantly unfussy country wine, it's a good companion to a hearty winter stew.\", 'designation': \"Vintner's Reserve Wild Child Block\", 'points': 87, 'price': 65.0, 'province': 'Oregon', 'region_1': 'Willamette Valley', 'region_2': 'Willamette Valley', 'taster_name': 'Paul Gregutt', 'taster_twitter_handle': '@paulgwine\\xa0', 'title': \"Sweet Cheeks 2012 Vintner's Reserve Wild Child Block Pinot Noir (Willamette Valley)\", 'variety': 'Pinot Noir', 'winery': 'Sweet Cheeks'}\n",
    "inserir(dados, 'c:/pikachu.gif')"
   ]
  },
  {
   "cell_type": "markdown",
   "metadata": {},
   "source": [
    "## 7. Criar função que retorne os 15 primeiros dados em ordem crescente de points;"
   ]
  },
  {
   "cell_type": "code",
   "execution_count": null,
   "metadata": {},
   "outputs": [],
   "source": [
    "def top15():\n",
    "    users_by_name = db.child(\"winereview\").order_by_child(\"points\").limit_to_first(15).get()\n",
    "    print(users_by_name.val())\n",
    "top15()"
   ]
  },
  {
   "cell_type": "markdown",
   "metadata": {},
   "source": [
    "## 8. Criar função que retorne todos os dados pelo nome da province;"
   ]
  },
  {
   "cell_type": "code",
   "execution_count": null,
   "metadata": {},
   "outputs": [],
   "source": [
    "def busca_por_provincia(provincia):\n",
    "    users_by_name = db.child(\"winereview\").order_by_child(\"province\").equal_to(provincia).get()\n",
    "    print(users_by_name.val())\n",
    "busca_por_provincia('California')"
   ]
  },
  {
   "cell_type": "markdown",
   "metadata": {},
   "source": [
    "## 9. Criar função que remove nó pelo timestamp;"
   ]
  },
  {
   "cell_type": "code",
   "execution_count": 59,
   "metadata": {},
   "outputs": [],
   "source": [
    "def deletar_por_id(id):\n",
    "    db.child(\"winereview\").child(id).remove()\n",
    "deletar_por_id(1583088933)"
   ]
  },
  {
   "cell_type": "markdown",
   "metadata": {},
   "source": [
    "## 10. Criar função que atualiza nó pelo timestamp;"
   ]
  },
  {
   "cell_type": "code",
   "execution_count": 60,
   "metadata": {},
   "outputs": [],
   "source": [
    "def atualiza_por_id(id, data):\n",
    "    db.child(\"winereview\").child(id).update(data)\n",
    "    \n",
    "dados = {'country': 'TIAGO', 'description': \"Much like the regular bottling from 2012, this comes across as rather rough and tannic, with rustic, earthy, herbal characteristics. Nonetheless, if you think of it as a pleasantly unfussy country wine, it's a good companion to a hearty winter stew.\", 'designation': \"Vintner's Reserve Wild Child Block\", 'points': 87, 'price': 65.0, 'province': 'Oregon', 'region_1': 'Willamette Valley', 'region_2': 'Willamette Valley', 'taster_name': 'Paul Gregutt', 'taster_twitter_handle': '@paulgwine\\xa0', 'title': \"Sweet Cheeks 2012 Vintner's Reserve Wild Child Block Pinot Noir (Willamette Valley)\", 'variety': 'Pinot Noir', 'winery': 'Sweet Cheeks'}\n",
    "atualiza_por_id(1583088934, dados)"
   ]
  }
 ],
 "metadata": {
  "kernelspec": {
   "display_name": "Python 3",
   "language": "python",
   "name": "python3"
  },
  "language_info": {
   "codemirror_mode": {
    "name": "ipython",
    "version": 3
   },
   "file_extension": ".py",
   "mimetype": "text/x-python",
   "name": "python",
   "nbconvert_exporter": "python",
   "pygments_lexer": "ipython3",
   "version": "3.7.4"
  }
 },
 "nbformat": 4,
 "nbformat_minor": 4
}
